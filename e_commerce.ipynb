{
 "cells": [
  {
   "attachments": {},
   "cell_type": "markdown",
   "metadata": {},
   "source": [
    "### 1. 개요\n",
    "<img src = ./images/data-original.png width=\"600px\">\n",
    "\n",
    "**Brazilian E-Commerce Public Dataset by Olist**\n",
    "\n",
    "**데이터 설명**\n",
    "\n",
    "- 출처: [[캐글 링크]](https://www.kaggle.com/datasets/olistbr/brazilian-ecommerce)\n",
    "- 브라질 이커머스사 [Olist Store](https://olist.com/pt-br/)의 주문 데이터(가명화)\n",
    "- 2016년~ 2018년 사이의 약 10만건의 주문 건"
   ]
  },
  {
   "attachments": {},
   "cell_type": "markdown",
   "metadata": {},
   "source": [
    "### 1-1 데이터 스키마\n",
    "<img src = \"./images/화면 캡처 2023-05-30 141031.png\" width = \"600px\">\n",
    "\n",
    "- 총 8개의 테이블로 구성\n",
    "- 리뷰 테이블과 위치 테이블은 분석 사용 하지 않음"
   ]
  },
  {
   "attachments": {},
   "cell_type": "markdown",
   "metadata": {},
   "source": [
    "### 1-2 프로젝트 주요 목표\n",
    "\n",
    "1. 재구매, 코호트, RFM 분석 등 비즈니스 분석을 수행하여 현상 해석 및 인사이트 도출\n",
    "2. 빅쿼리를 통한 ad-hoc 분석"
   ]
  },
  {
   "cell_type": "code",
   "execution_count": 3,
   "metadata": {},
   "outputs": [
    {
     "name": "stdout",
     "output_type": "stream",
     "text": [
      "Defaulting to user installation because normal site-packages is not writeable\n",
      "Requirement already satisfied: google-cloud-bigquery in /home/wbin0718/.local/lib/python3.10/site-packages (3.10.0)\n",
      "Requirement already satisfied: packaging>=20.0.0 in /home/wbin0718/.local/lib/python3.10/site-packages (from google-cloud-bigquery) (23.0)\n",
      "Requirement already satisfied: google-api-core[grpc]!=2.0.*,!=2.1.*,!=2.2.*,!=2.3.0,<3.0.0dev,>=1.31.5 in /home/wbin0718/.local/lib/python3.10/site-packages (from google-cloud-bigquery) (2.11.0)\n",
      "Requirement already satisfied: requests<3.0.0dev,>=2.21.0 in /home/wbin0718/.local/lib/python3.10/site-packages (from google-cloud-bigquery) (2.28.1)\n",
      "Requirement already satisfied: google-cloud-core<3.0.0dev,>=1.6.0 in /home/wbin0718/.local/lib/python3.10/site-packages (from google-cloud-bigquery) (2.3.2)\n",
      "Requirement already satisfied: google-resumable-media<3.0dev,>=0.6.0 in /home/wbin0718/.local/lib/python3.10/site-packages (from google-cloud-bigquery) (2.5.0)\n",
      "Requirement already satisfied: protobuf!=3.20.0,!=3.20.1,!=4.21.0,!=4.21.1,!=4.21.2,!=4.21.3,!=4.21.4,!=4.21.5,<5.0.0dev,>=3.19.5 in /home/wbin0718/.local/lib/python3.10/site-packages (from google-cloud-bigquery) (4.23.1)\n",
      "Requirement already satisfied: python-dateutil<3.0dev,>=2.7.2 in /home/wbin0718/.local/lib/python3.10/site-packages (from google-cloud-bigquery) (2.8.2)\n",
      "Requirement already satisfied: grpcio<2.0dev,>=1.47.0 in /home/wbin0718/.local/lib/python3.10/site-packages (from google-cloud-bigquery) (1.54.2)\n",
      "Requirement already satisfied: proto-plus<2.0.0dev,>=1.15.0 in /home/wbin0718/.local/lib/python3.10/site-packages (from google-cloud-bigquery) (1.22.2)\n",
      "Requirement already satisfied: google-auth<3.0dev,>=2.14.1 in /home/wbin0718/.local/lib/python3.10/site-packages (from google-api-core[grpc]!=2.0.*,!=2.1.*,!=2.2.*,!=2.3.0,<3.0.0dev,>=1.31.5->google-cloud-bigquery) (2.17.2)\n",
      "Requirement already satisfied: googleapis-common-protos<2.0dev,>=1.56.2 in /home/wbin0718/.local/lib/python3.10/site-packages (from google-api-core[grpc]!=2.0.*,!=2.1.*,!=2.2.*,!=2.3.0,<3.0.0dev,>=1.31.5->google-cloud-bigquery) (1.59.0)\n",
      "Requirement already satisfied: grpcio-status<2.0dev,>=1.33.2 in /home/wbin0718/.local/lib/python3.10/site-packages (from google-api-core[grpc]!=2.0.*,!=2.1.*,!=2.2.*,!=2.3.0,<3.0.0dev,>=1.31.5->google-cloud-bigquery) (1.54.2)\n",
      "Requirement already satisfied: google-crc32c<2.0dev,>=1.0 in /home/wbin0718/.local/lib/python3.10/site-packages (from google-resumable-media<3.0dev,>=0.6.0->google-cloud-bigquery) (1.5.0)\n",
      "Requirement already satisfied: six>=1.5 in /usr/lib/python3/dist-packages (from python-dateutil<3.0dev,>=2.7.2->google-cloud-bigquery) (1.16.0)\n",
      "Requirement already satisfied: certifi>=2017.4.17 in /home/wbin0718/.local/lib/python3.10/site-packages (from requests<3.0.0dev,>=2.21.0->google-cloud-bigquery) (2022.12.7)\n",
      "Requirement already satisfied: charset-normalizer<3,>=2 in /home/wbin0718/.local/lib/python3.10/site-packages (from requests<3.0.0dev,>=2.21.0->google-cloud-bigquery) (2.1.1)\n",
      "Requirement already satisfied: idna<4,>=2.5 in /home/wbin0718/.local/lib/python3.10/site-packages (from requests<3.0.0dev,>=2.21.0->google-cloud-bigquery) (3.4)\n",
      "Requirement already satisfied: urllib3<1.27,>=1.21.1 in /home/wbin0718/.local/lib/python3.10/site-packages (from requests<3.0.0dev,>=2.21.0->google-cloud-bigquery) (1.26.15)\n",
      "Requirement already satisfied: pyasn1-modules>=0.2.1 in /home/wbin0718/.local/lib/python3.10/site-packages (from google-auth<3.0dev,>=2.14.1->google-api-core[grpc]!=2.0.*,!=2.1.*,!=2.2.*,!=2.3.0,<3.0.0dev,>=1.31.5->google-cloud-bigquery) (0.2.8)\n",
      "Requirement already satisfied: cachetools<6.0,>=2.0.0 in /home/wbin0718/.local/lib/python3.10/site-packages (from google-auth<3.0dev,>=2.14.1->google-api-core[grpc]!=2.0.*,!=2.1.*,!=2.2.*,!=2.3.0,<3.0.0dev,>=1.31.5->google-cloud-bigquery) (5.3.0)\n",
      "Requirement already satisfied: rsa<5,>=3.1.4 in /home/wbin0718/.local/lib/python3.10/site-packages (from google-auth<3.0dev,>=2.14.1->google-api-core[grpc]!=2.0.*,!=2.1.*,!=2.2.*,!=2.3.0,<3.0.0dev,>=1.31.5->google-cloud-bigquery) (4.9)\n",
      "Requirement already satisfied: pyasn1<0.5.0,>=0.4.6 in /home/wbin0718/.local/lib/python3.10/site-packages (from pyasn1-modules>=0.2.1->google-auth<3.0dev,>=2.14.1->google-api-core[grpc]!=2.0.*,!=2.1.*,!=2.2.*,!=2.3.0,<3.0.0dev,>=1.31.5->google-cloud-bigquery) (0.4.8)\n",
      "Defaulting to user installation because normal site-packages is not writeable\n",
      "Requirement already satisfied: db-dtypes in /home/wbin0718/.local/lib/python3.10/site-packages (1.1.1)\n",
      "Requirement already satisfied: pyarrow>=3.0.0 in /home/wbin0718/.local/lib/python3.10/site-packages (from db-dtypes) (11.0.0)\n",
      "Requirement already satisfied: pandas>=0.24.2 in /home/wbin0718/.local/lib/python3.10/site-packages (from db-dtypes) (2.0.0)\n",
      "Requirement already satisfied: packaging>=17.0 in /home/wbin0718/.local/lib/python3.10/site-packages (from db-dtypes) (23.0)\n",
      "Requirement already satisfied: numpy>=1.16.6 in /home/wbin0718/.local/lib/python3.10/site-packages (from db-dtypes) (1.23.5)\n",
      "Requirement already satisfied: python-dateutil>=2.8.2 in /home/wbin0718/.local/lib/python3.10/site-packages (from pandas>=0.24.2->db-dtypes) (2.8.2)\n",
      "Requirement already satisfied: pytz>=2020.1 in /home/wbin0718/.local/lib/python3.10/site-packages (from pandas>=0.24.2->db-dtypes) (2023.3)\n",
      "Requirement already satisfied: tzdata>=2022.1 in /home/wbin0718/.local/lib/python3.10/site-packages (from pandas>=0.24.2->db-dtypes) (2023.3)\n",
      "Requirement already satisfied: six>=1.5 in /usr/lib/python3/dist-packages (from python-dateutil>=2.8.2->pandas>=0.24.2->db-dtypes) (1.16.0)\n",
      "Defaulting to user installation because normal site-packages is not writeable\n",
      "Requirement already satisfied: plotly in /home/wbin0718/.local/lib/python3.10/site-packages (5.14.1)\n",
      "Requirement already satisfied: packaging in /home/wbin0718/.local/lib/python3.10/site-packages (from plotly) (23.0)\n",
      "Requirement already satisfied: tenacity>=6.2.0 in /home/wbin0718/.local/lib/python3.10/site-packages (from plotly) (8.2.2)\n",
      "Defaulting to user installation because normal site-packages is not writeable\n",
      "Requirement already satisfied: nbformat in /home/wbin0718/.local/lib/python3.10/site-packages (5.8.0)\n",
      "Requirement already satisfied: jupyter-core in /home/wbin0718/.local/lib/python3.10/site-packages (from nbformat) (5.3.0)\n",
      "Requirement already satisfied: traitlets>=5.1 in /home/wbin0718/.local/lib/python3.10/site-packages (from nbformat) (5.9.0)\n",
      "Requirement already satisfied: jsonschema>=2.6 in /home/wbin0718/.local/lib/python3.10/site-packages (from nbformat) (4.17.3)\n",
      "Requirement already satisfied: fastjsonschema in /home/wbin0718/.local/lib/python3.10/site-packages (from nbformat) (2.17.1)\n",
      "Requirement already satisfied: attrs>=17.4.0 in /home/wbin0718/.local/lib/python3.10/site-packages (from jsonschema>=2.6->nbformat) (23.1.0)\n",
      "Requirement already satisfied: pyrsistent!=0.17.0,!=0.17.1,!=0.17.2,>=0.14.0 in /home/wbin0718/.local/lib/python3.10/site-packages (from jsonschema>=2.6->nbformat) (0.19.3)\n",
      "Requirement already satisfied: platformdirs>=2.5 in /home/wbin0718/.local/lib/python3.10/site-packages (from jupyter-core->nbformat) (3.2.0)\n",
      "Defaulting to user installation because normal site-packages is not writeable\n",
      "Requirement already satisfied: seaborn in /home/wbin0718/.local/lib/python3.10/site-packages (0.12.2)\n",
      "Requirement already satisfied: numpy!=1.24.0,>=1.17 in /home/wbin0718/.local/lib/python3.10/site-packages (from seaborn) (1.23.5)\n",
      "Requirement already satisfied: pandas>=0.25 in /home/wbin0718/.local/lib/python3.10/site-packages (from seaborn) (2.0.0)\n",
      "Requirement already satisfied: matplotlib!=3.6.1,>=3.1 in /home/wbin0718/.local/lib/python3.10/site-packages (from seaborn) (3.7.1)\n",
      "Requirement already satisfied: cycler>=0.10 in /home/wbin0718/.local/lib/python3.10/site-packages (from matplotlib!=3.6.1,>=3.1->seaborn) (0.11.0)\n",
      "Requirement already satisfied: packaging>=20.0 in /home/wbin0718/.local/lib/python3.10/site-packages (from matplotlib!=3.6.1,>=3.1->seaborn) (23.0)\n",
      "Requirement already satisfied: python-dateutil>=2.7 in /home/wbin0718/.local/lib/python3.10/site-packages (from matplotlib!=3.6.1,>=3.1->seaborn) (2.8.2)\n",
      "Requirement already satisfied: fonttools>=4.22.0 in /home/wbin0718/.local/lib/python3.10/site-packages (from matplotlib!=3.6.1,>=3.1->seaborn) (4.39.4)\n",
      "Requirement already satisfied: kiwisolver>=1.0.1 in /home/wbin0718/.local/lib/python3.10/site-packages (from matplotlib!=3.6.1,>=3.1->seaborn) (1.4.4)\n",
      "Requirement already satisfied: contourpy>=1.0.1 in /home/wbin0718/.local/lib/python3.10/site-packages (from matplotlib!=3.6.1,>=3.1->seaborn) (1.0.7)\n",
      "Requirement already satisfied: pillow>=6.2.0 in /home/wbin0718/.local/lib/python3.10/site-packages (from matplotlib!=3.6.1,>=3.1->seaborn) (9.5.0)\n",
      "Requirement already satisfied: pyparsing>=2.3.1 in /usr/lib/python3/dist-packages (from matplotlib!=3.6.1,>=3.1->seaborn) (2.4.7)\n",
      "Requirement already satisfied: pytz>=2020.1 in /home/wbin0718/.local/lib/python3.10/site-packages (from pandas>=0.25->seaborn) (2023.3)\n",
      "Requirement already satisfied: tzdata>=2022.1 in /home/wbin0718/.local/lib/python3.10/site-packages (from pandas>=0.25->seaborn) (2023.3)\n",
      "Requirement already satisfied: six>=1.5 in /usr/lib/python3/dist-packages (from python-dateutil>=2.7->matplotlib!=3.6.1,>=3.1->seaborn) (1.16.0)\n"
     ]
    }
   ],
   "source": [
    "!pip install google-cloud-bigquery\n",
    "!pip install db-dtypes\n",
    "!pip install plotly\n",
    "!pip install nbformat\n",
    "!pip install seaborn"
   ]
  },
  {
   "cell_type": "code",
   "execution_count": 4,
   "metadata": {},
   "outputs": [],
   "source": [
    "import pandas as pd\n",
    "import numpy as np\n",
    "import seaborn as sns\n",
    "import warnings\n",
    "import matplotlib.pyplot as plt\n",
    "\n",
    "import glob\n",
    "from google.cloud import bigquery\n",
    "from google.oauth2 import service_account\n",
    "\n",
    "pd.set_option(\"display.max_columns\",999)\n",
    "warnings.filterwarnings(\"ignore\")"
   ]
  },
  {
   "cell_type": "code",
   "execution_count": null,
   "metadata": {},
   "outputs": [],
   "source": [
    "# 파이썬 구글 빅쿼리 연동 코드\n",
    "# json 파일\n",
    "\n",
    "key_path = glob.glob(\"./*.json\")[0]\n",
    "credentials = service_account.Credentials.from_service_account_file(key_path)\n",
    "client = bigquery.Client(credentials = credentials, \n",
    "                         project = credentials.project_id)"
   ]
  }
 ],
 "metadata": {
  "kernelspec": {
   "display_name": "Python 3",
   "language": "python",
   "name": "python3"
  },
  "language_info": {
   "codemirror_mode": {
    "name": "ipython",
    "version": 3
   },
   "file_extension": ".py",
   "mimetype": "text/x-python",
   "name": "python",
   "nbconvert_exporter": "python",
   "pygments_lexer": "ipython3",
   "version": "3.10.6"
  },
  "orig_nbformat": 4
 },
 "nbformat": 4,
 "nbformat_minor": 2
}
